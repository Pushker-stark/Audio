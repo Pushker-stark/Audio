{
 "cells": [
  {
   "cell_type": "code",
   "execution_count": 1,
   "metadata": {
    "collapsed": false
   },
   "outputs": [],
   "source": [
    "# All the audio processing tools are wrapped in the Python Module called AudioPipe\n",
    "import AudioPipe.speaker.recognition as SR # Speaker Recognition Module\n",
    "import AudioPipe.fingerprint.panako as FP # Accoustic Fingerprinting Module\n",
    "from AudioPipe.speaker.silence import remove_silence # tool for remove the silence in the audio, not needed\n",
    "import numpy as np\n",
    "from AudioPipe.features import mfcc # Feature Extraction Module, part of the shared preprocessing\n",
    "import scipy.io.wavfile as wav \n",
    "from AudioPipe.speaker.rec import dia2spk, spk # Speaker Recognition using diarization results\n",
    "from AudioPipe.utils.utils import video2audio # Format converting module, part of the shared preprocessing\n",
    "import commands, os\n",
    "from AudioPipe.diarization.diarization import Diarization # Speaker Diarization Moudule\n",
    "import AudioPipe.data.manage as DM # Data Management Module"
   ]
  },
  {
   "cell_type": "code",
   "execution_count": 2,
   "metadata": {
    "collapsed": false
   },
   "outputs": [
    {
     "name": "stdout",
     "output_type": "stream",
     "text": [
      "(0, '')\n"
     ]
    }
   ],
   "source": [
    "# Select the video file to be processed\n",
    "Video_node = DM.Node(\"Data/Video/\",\".mp4\")\n",
    "name = \"2015-08-07_0050_US_FOX-News_US_Presidential_Politics\""
   ]
  },
  {
   "cell_type": "code",
   "execution_count": 3,
   "metadata": {
    "collapsed": false
   },
   "outputs": [
    {
     "name": "stdout",
     "output_type": "stream",
     "text": [
      "(0, '')\n"
     ]
    }
   ],
   "source": [
    "# Select the file for the meta infomation\n",
    "Meta_node = DM.Node(\"Data/RedHen/\",\".seg\")\n",
    "meta = Meta_node.Pick(name)"
   ]
  },
  {
   "cell_type": "code",
   "execution_count": 4,
   "metadata": {
    "collapsed": false
   },
   "outputs": [
    {
     "name": "stdout",
     "output_type": "stream",
     "text": [
      "(0, '')\n"
     ]
    }
   ],
   "source": [
    "# Store the fingerprint of the video\n",
    "FP_node= DM.Node(\"Data/Fingerprint/\")\n",
    "output, err, exitcode = Video_node.Flow(FP.Store, name, FP_node, [])"
   ]
  },
  {
   "cell_type": "code",
   "execution_count": 5,
   "metadata": {
    "collapsed": false
   },
   "outputs": [
    {
     "name": "stdout",
     "output_type": "stream",
     "text": [
      "(0, '')\n"
     ]
    }
   ],
   "source": [
    "# Convert the video to audio\n",
    "Audio_node = DM.Node(\"Data/Audio/\", \".wav\")\n",
    "audio = Video_node.Flow(video2audio, name, Audio_node, [Audio_node.ext])"
   ]
  },
  {
   "cell_type": "code",
   "execution_count": 6,
   "metadata": {
    "collapsed": false
   },
   "outputs": [
    {
     "name": "stdout",
     "output_type": "stream",
     "text": [
      "(0, '')\n",
      "(0, '')\n",
      "(0, '')\n",
      "(0, '')\n",
      "(0, '')\n",
      "(0, '')\n",
      "Now start extracting mfcc features\n",
      "(0, \"ffmpeg version 2.8.2 Copyright (c) 2000-2015 the FFmpeg developers\\n  built with gcc 4.9.3 (GCC)\\n  configuration: --prefix=/usr/local/ffmpeg/2.8.2 --enable-shared\\n  libavutil      54. 31.100 / 54. 31.100\\n  libavcodec     56. 60.100 / 56. 60.100\\n  libavformat    56. 40.101 / 56. 40.101\\n  libavdevice    56.  4.100 / 56.  4.100\\n  libavfilter     5. 40.101 /  5. 40.101\\n  libswscale      3.  1.101 /  3.  1.101\\n  libswresample   1.  2.101 /  1.  2.101\\nGuessed Channel Layout for  Input Stream #0.0 : stereo\\nInput #0, wav, from 'Data/Audio/2015-08-07_0050_US_FOX-News_US_Presidential_Politics.wav':\\n  Metadata:\\n    encoder         : Lavf56.40.101\\n  Duration: 02:09:53.41, bitrate: 1411 kb/s\\n    Stream #0:0: Audio: pcm_s16le ([1][0][0][0] / 0x0001), 44100 Hz, 2 channels, s16, 1411 kb/s\\nOutput #0, wav, to '/home/hxx124/Pipeline/Audio/Pipeline/AudioPipe/diarization/temp_audio/2015-08-07_0050_US_FOX-News_US_Presidential_Politics.wav':\\n  Metadata:\\n    ISFT            : Lavf56.40.101\\n    Stream #0:0: Audio: pcm_s16le ([1][0][0][0] / 0x0001), 16000 Hz, stereo, s16, 512 kb/s\\n    Metadata:\\n      encoder         : Lavc56.60.100 pcm_s16le\\nStream mapping:\\n  Stream #0:0 -> #0:0 (pcm_s16le (native) -> pcm_s16le (native))\\nPress [q] to stop, [?] for help\\nsize=   14354kB time=00:03:49.66 bitrate= 512.0kbits/s    \\rsize=   30254kB time=00:08:04.06 bitrate= 512.0kbits/s    \\rsize=   46187kB time=00:12:18.99 bitrate= 512.0kbits/s    \\rsize=   62105kB time=00:16:33.67 bitrate= 512.0kbits/s    \\rsize=   74326kB time=00:19:49.20 bitrate= 512.0kbits/s    \\rsize=   90270kB time=00:24:04.32 bitrate= 512.0kbits/s    \\rsize=  106214kB time=00:28:19.42 bitrate= 512.0kbits/s    \\rsize=  122199kB time=00:32:35.18 bitrate= 512.0kbits/s    \\rsize=  134161kB time=00:35:46.56 bitrate= 512.0kbits/s    \\rsize=  150089kB time=00:40:01.42 bitrate= 512.0kbits/s    \\rsize=  166008kB time=00:44:16.12 bitrate= 512.0kbits/s    \\rsize=  181912kB time=00:48:30.59 bitrate= 512.0kbits/s    \\rsize=  196599kB time=00:52:25.58 bitrate= 512.0kbits/s    \\rsize=  212455kB time=00:56:39.28 bitrate= 512.0kbits/s    \\rsize=  228341kB time=01:00:53.44 bitrate= 512.0kbits/s    \\rsize=  244223kB time=01:05:07.56 bitrate= 512.0kbits/s    \\rsize=  260149kB time=01:09:22.38 bitrate= 512.0kbits/s    \\rsize=  271652kB time=01:12:26.42 bitrate= 512.0kbits/s    \\rsize=  287584kB time=01:16:41.33 bitrate= 512.0kbits/s    \\rsize=  303520kB time=01:20:56.31 bitrate= 512.0kbits/s    \\rsize=  319472kB time=01:25:11.54 bitrate= 512.0kbits/s    \\rsize=  331968kB time=01:28:31.49 bitrate= 512.0kbits/s    \\rsize=  347867kB time=01:32:45.86 bitrate= 512.0kbits/s    \\rsize=  363761kB time=01:37:00.17 bitrate= 512.0kbits/s    \\rsize=  379690kB time=01:41:15.03 bitrate= 512.0kbits/s    \\rsize=  393195kB time=01:44:51.12 bitrate= 512.0kbits/s    \\rsize=  409082kB time=01:49:05.30 bitrate= 512.0kbits/s    \\rsize=  425012kB time=01:53:20.19 bitrate= 512.0kbits/s    \\rsize=  440989kB time=01:57:35.82 bitrate= 512.0kbits/s    \\rsize=  456941kB time=02:01:51.05 bitrate= 512.0kbits/s    \\rsize=  466085kB time=02:04:17.36 bitrate= 512.0kbits/s    \\rsize=  482049kB time=02:08:32.78 bitrate= 512.0kbits/s    \\rsize=  487088kB time=02:09:53.40 bitrate= 512.0kbits/s    \\nvideo:0kB audio:487088kB subtitle:0kB other streams:0kB global headers:0kB muxing overhead: 0.000016%\")\n",
      "(0, '')\n",
      "Now start preparing configure file\n",
      "Now start clustering\n",
      "(0, \"/usr/bin/ld: skipping incompatible /usr/local/cuda-7.0/lib/libcudart.so when searching for -lcudart\\n/usr/bin/ld: skipping incompatible /usr/local/cuda-7.0/lib/libcudart.so when searching for -lcudart\\ng++ -pthread -fno-strict-aliasing -g -O2 -g -fwrapv -O3 -Wall -fPIC -pthread -shared -Xlinker -export-dynamic -DNDEBUG -I/usr/local/python/2.7.8/include/python2.7 -I/usr/local/cuda-7.0/include /tmp/pbsjobs.460477.hpc/asp_cache_hxx124/46c837d5cb878372cdb2886923bd37a6/module.o /tmp/pbsjobs.460477.hpc/asp_cache_hxx124/7ceed7a1666bbc7019867d851e0660de/gpu.o -L/usr/local/python/2.7.8/lib -L/usr/local/cuda-7.0/lib -L/usr/local/cuda-7.0/lib64 -lcuda -lcudart -lboost_python -lpython2.7 -lpthread -ldl -lutil -o /tmp/pbsjobs.460477.hpc/asp_cache_hxx124/codepy.temp.46c837d5cb878372cdb2886923bd37a6.7ceed7a1666bbc7019867d851e0660de.module.so\\nUsing the config file specified: ' Data/Model/DiaCfg/2015-08-07_0050_US_FOX-News_US_Presidential_Politics.cfg '\\nSpeech file spnsp_file not specified, continuing without it...\\n...Reading in HTK feature file...\\nINFO: total number of frames read:  779339\\n...Reading in speech/nonspeech file...\\n ====================== CLUSTERING ON SUBSET ====================== \\nGMM SPECIALIZER: USING CUDA\\ng++ -pthread -fno-strict-aliasing -g -O2 -g -fwrapv -O3 -Wall -fPIC -pthread -shared -Xlinker -export-dynamic -DNDEBUG -I/usr/local/python/2.7.8/include/python2.7 -I/home/hxx124/myPython/virtualenv-1.9/ENV/lib/python2.7/site-packages/numpy/core/include -I/usr/local/cuda-7.0/include /tmp/pbsjobs.460477.hpc/asp_cache_hxx124/38d44195c321f1de7e40420e316a4733/module.o /tmp/pbsjobs.460477.hpc/asp_cache_hxx124/11dee452985a0f3b9b6a40453d090df4/gpu.o -L/usr/local/python/2.7.8/lib -L/usr/local/cuda-7.0/lib -L/usr/local/cuda-7.0/lib64 -lcuda -lcudart -lboost_python -lpython2.7 -lpthread -ldl -lutil -o /tmp/pbsjobs.460477.hpc/asp_cache_hxx124/codepy.temp.38d44195c321f1de7e40420e316a4733.11dee452985a0f3b9b6a40453d090df4.module.so\\n size of each cluster: [5, 5, 5, 5, 5, 5, 5, 5, 5, 5, 5, 5, 5, 5, 5, 5, 5, 5, 10]\\n size of each cluster: [5, 5, 5, 5, 5, 5, 5, 5, 5, 5, 5, 5, 5, 5, 5, 5, 10, 10]\\n size of each cluster: [5, 5, 5, 5, 5, 5, 5, 5, 5, 5, 5, 5, 5, 5, 10, 10, 10]\\n size of each cluster: [5, 5, 5, 5, 5, 5, 5, 5, 5, 5, 5, 5, 5, 10, 10, 15]\\n size of each cluster: [5, 5, 5, 5, 5, 5, 5, 5, 5, 5, 5, 10, 10, 15, 10]\\n size of each cluster: [5, 5, 5, 5, 5, 5, 5, 5, 5, 10, 10, 15, 10, 10]\\n size of each cluster: [5, 5, 5, 5, 5, 5, 5, 5, 10, 10, 15, 10, 15]\\n size of each cluster: [5, 5, 5, 5, 5, 5, 5, 10, 10, 15, 10, 20]\\n size of each cluster: [5, 5, 5, 5, 5, 5, 10, 15, 10, 20, 15]\\n size of each cluster: [5, 5, 5, 5, 5, 5, 10, 15, 10, 35]\\n size of each cluster: [5, 5, 5, 5, 5, 15, 10, 35, 15]\\n size of each cluster: [5, 5, 5, 5, 10, 35, 15, 20]\\n size of each cluster: [5, 5, 5, 35, 15, 20, 15]\\n size of each cluster: [5, 5, 35, 15, 20, 20]\\n size of each cluster: [5, 5, 35, 20, 35]\\n size of each cluster: [5, 5, 35, 55]\\n size of each cluster: [5, 55, 40]\\n size of each cluster: [40, 60]\\n size of each cluster: [100]\\n=== Total clustering time:  935.101713181\\n=== Final size of each cluster: [100]\\n...Writing out RTTM file...\\nDONE writing RTTM file\")\n",
      "(0, '')\n"
     ]
    }
   ],
   "source": [
    "Dia_node = DM.Node(\"Data/Diarization/\", \".rttm\")\n",
    "args = dict(init_cluster=20, dest_mfcc='Data/MFCC', dest_cfg=\"Data/Model/DiaCfg\")\n",
    "dia =  Audio_node.Flow(Diarization, name, Dia_node, args)"
   ]
  },
  {
   "cell_type": "code",
   "execution_count": 7,
   "metadata": {
    "collapsed": true
   },
   "outputs": [],
   "source": [
    "# Below you can find an example on training a fresh model\n",
    "# However, please make sure that the sample rate of your training data is the same with your testing data\n",
    "model_gender_dir = \"Data/Model/Gender/\"\n",
    "model_gender_nm = 'gender.model'\n",
    "model_gender = model_gender_dir+model_gender_nm\n",
    "if not os.path.isfile(model_gender):\n",
    "    Gender = SR.GMMRec() # Create a new recognizer\n",
    "    female_fn = model_gender_dir+'female.wav' # choose the training file for female\n",
    "    male_fn = model_gender_dir+'male.wav' # choose the training file for male\n",
    "    Gender.enroll_file('Female', female_fn) # enroll the female audio \n",
    "    Gender.enroll_file('Male', male_fn) # enroll the male audio \n",
    "    Gender.train() # train the GMMs after you enroll all the training data \n",
    "    Gender.dump(model_gender) # save the trained model into a file named \"gender.model\" for future use"
   ]
  },
  {
   "cell_type": "code",
   "execution_count": null,
   "metadata": {
    "collapsed": true
   },
   "outputs": [],
   "source": [
    "# Gender Identification based on Speaker Diarization\n",
    "Gen_node = DM.Node(\"Data/Gender/\",\".gen\")\n",
    "gen = Audio_node.Flow(dia2spk, name, Gen_node, [model_gender, dia, meta, Gen_node.ext])"
   ]
  },
  {
   "cell_type": "code",
   "execution_count": null,
   "metadata": {
    "collapsed": true
   },
   "outputs": [],
   "source": [
    "Genr_node = DM.Node(\"Data/Gender/\",\".genr\")\n",
    "gen = Audio_node.Flow(spk, name, Genr_node, [model_gender, dia, meta, Genr_node.ext])"
   ]
  },
  {
   "cell_type": "code",
   "execution_count": null,
   "metadata": {
    "collapsed": true
   },
   "outputs": [],
   "source": [
    "# you can train a fresh model as follows:\n",
    "\n",
    "model_speaker_dir = \"Data/Model/Speaker/\" # The training data should already be here!! \n",
    "model_speaker_nm = 'speaker.model'\n",
    "model_speaker = model_speaker_dir+model_speaker_nm\n",
    "if not os.path.isfile(model_speaker):\n",
    "    Speaker = SR.GMMRec() # Create a new recognizer\n",
    "    other_fn = model_speaker_dir+'Imposter.wav' # choose the training file for female\n",
    "    trump_fn = model_speaker_dir+'Trump.wav' # choose the training file for male\n",
    "    Speaker.enroll_file('Other', other_fn) # enroll the female audio \n",
    "    Speaker.enroll_file('Trump', trump_fn) # enroll the male audio \n",
    "    # You can add more speakers here following the syntax above\n",
    "    Speaker.train() # train the GMMs after you enroll all the training data \n",
    "    Speaker.dump(model_speaker) # save the trained model into a file named \"gender.model\" for future use"
   ]
  },
  {
   "cell_type": "code",
   "execution_count": null,
   "metadata": {
    "collapsed": true
   },
   "outputs": [],
   "source": []
  },
  {
   "cell_type": "code",
   "execution_count": 2,
   "metadata": {
    "collapsed": true
   },
   "outputs": [],
   "source": [
    "# Select the video file to be processed\n",
    "video = \"Data/Video/2015-08-07_0050_US_FOX-News_US_Presidential_Politics.mp4\"\n",
    "name = os.path.basename(video).split('.')[0]"
   ]
  },
  {
   "cell_type": "code",
   "execution_count": 3,
   "metadata": {
    "collapsed": false
   },
   "outputs": [],
   "source": [
    "# Select the file for the meta infomation\n",
    "meta = \"Data/RedHen/2015-08-07_0050_US_FOX-News_US_Presidential_Politics.seg\""
   ]
  },
  {
   "cell_type": "code",
   "execution_count": 4,
   "metadata": {
    "collapsed": false
   },
   "outputs": [],
   "source": [
    "# Store the fingerprint of the video\n",
    "fingerprint_dir = \"Data/Fingerprint/\"\n",
    "commands.getstatusoutput(\"mkdir -p \"+fingerprint_dir)\n",
    "output, err, exitcode = FP.Store(video, fingerprint_dir)"
   ]
  },
  {
   "cell_type": "code",
   "execution_count": 5,
   "metadata": {
    "collapsed": false
   },
   "outputs": [],
   "source": [
    "# Convert the video to audio\n",
    "audio_dir = \"Data/Audio/\"\n",
    "commands.getstatusoutput(\"mkdir -p \"+audio_dir)\n",
    "audio_ext = \".wav\"\n",
    "video2audio(video, audio_dir, audio_ext)\n",
    "audio = os.path.join(audio_dir, name+audio_ext)"
   ]
  },
  {
   "cell_type": "code",
   "execution_count": 6,
   "metadata": {
    "collapsed": false
   },
   "outputs": [
    {
     "name": "stdout",
     "output_type": "stream",
     "text": [
      "(0, '')\n",
      "(0, '')\n",
      "(0, '')\n",
      "(0, '')\n",
      "(0, '')\n",
      "(0, \"ffmpeg version 2.8.2 Copyright (c) 2000-2015 the FFmpeg developers\\n  built with gcc 4.9.3 (GCC)\\n  configuration: --prefix=/usr/local/ffmpeg/2.8.2 --enable-shared\\n  libavutil      54. 31.100 / 54. 31.100\\n  libavcodec     56. 60.100 / 56. 60.100\\n  libavformat    56. 40.101 / 56. 40.101\\n  libavdevice    56.  4.100 / 56.  4.100\\n  libavfilter     5. 40.101 /  5. 40.101\\n  libswscale      3.  1.101 /  3.  1.101\\n  libswresample   1.  2.101 /  1.  2.101\\nGuessed Channel Layout for  Input Stream #0.0 : stereo\\nInput #0, wav, from 'Data/Audio/2015-08-07_0050_US_FOX-News_US_Presidential_Politics.wav':\\n  Metadata:\\n    encoder         : Lavf56.40.101\\n  Duration: 02:09:53.41, bitrate: 1411 kb/s\\n    Stream #0:0: Audio: pcm_s16le ([1][0][0][0] / 0x0001), 44100 Hz, 2 channels, s16, 1411 kb/s\\nOutput #0, wav, to '/home/hxx124/Pipeline/Audio/Pipeline/AudioPipe/diarization/temp_audio/2015-08-07_0050_US_FOX-News_US_Presidential_Politics.wav':\\n  Metadata:\\n    ISFT            : Lavf56.40.101\\n    Stream #0:0: Audio: pcm_s16le ([1][0][0][0] / 0x0001), 16000 Hz, stereo, s16, 512 kb/s\\n    Metadata:\\n      encoder         : Lavc56.60.100 pcm_s16le\\nStream mapping:\\n  Stream #0:0 -> #0:0 (pcm_s16le (native) -> pcm_s16le (native))\\nPress [q] to stop, [?] for help\\nsize=    7160kB time=00:01:54.56 bitrate= 512.0kbits/s    \\rsize=   15074kB time=00:04:01.18 bitrate= 512.0kbits/s    \\rsize=   22875kB time=00:06:05.99 bitrate= 512.0kbits/s    \\rsize=   30791kB time=00:08:12.65 bitrate= 512.0kbits/s    \\rsize=   44452kB time=00:11:51.22 bitrate= 512.0kbits/s    \\rsize=   60381kB time=00:16:06.08 bitrate= 512.0kbits/s    \\rsize=   68950kB time=00:18:23.20 bitrate= 512.0kbits/s    \\rsize=   76890kB time=00:20:30.23 bitrate= 512.0kbits/s    \\rsize=   84801kB time=00:22:36.81 bitrate= 512.0kbits/s    \\rsize=   92649kB time=00:24:42.38 bitrate= 512.0kbits/s    \\rsize=  100602kB time=00:26:49.62 bitrate= 512.0kbits/s    \\rsize=  108463kB time=00:28:55.41 bitrate= 512.0kbits/s    \\rsize=  116386kB time=00:31:02.16 bitrate= 512.0kbits/s    \\rsize=  124250kB time=00:33:07.99 bitrate= 512.0kbits/s    \\rsize=  131068kB time=00:34:57.08 bitrate= 512.0kbits/s    \\rsize=  139128kB time=00:37:06.04 bitrate= 512.0kbits/s    \\rsize=  147161kB time=00:39:14.57 bitrate= 512.0kbits/s    \\rsize=  155014kB time=00:41:20.21 bitrate= 512.0kbits/s    \\rsize=  162926kB time=00:43:26.81 bitrate= 512.0kbits/s    \\rsize=  170746kB time=00:45:31.94 bitrate= 512.0kbits/s    \\rsize=  178733kB time=00:47:39.72 bitrate= 512.0kbits/s    \\rsize=  186587kB time=00:49:45.38 bitrate= 512.0kbits/s    \\rsize=  194564kB time=00:51:53.02 bitrate= 512.0kbits/s    \\rsize=  200774kB time=00:53:32.38 bitrate= 512.0kbits/s    \\rsize=  208628kB time=00:55:38.05 bitrate= 512.0kbits/s    \\rsize=  215799kB time=00:57:32.78 bitrate= 512.0kbits/s    \\rsize=  227194kB time=01:00:35.10 bitrate= 512.0kbits/s    \\rsize=  243111kB time=01:04:49.78 bitrate= 512.0kbits/s    \\rsize=  259072kB time=01:09:05.15 bitrate= 512.0kbits/s    \\rsize=  267019kB time=01:11:12.30 bitrate= 512.0kbits/s    \\rsize=  275071kB time=01:13:21.13 bitrate= 512.0kbits/s    \\rsize=  282932kB time=01:15:26.91 bitrate= 512.0kbits/s    \\rsize=  290830kB time=01:17:33.27 bitrate= 512.0kbits/s    \\rsize=  298680kB time=01:19:38.87 bitrate= 512.0kbits/s    \\rsize=  306737kB time=01:21:47.79 bitrate= 512.0kbits/s    \\rsize=  314555kB time=01:23:52.87 bitrate= 512.0kbits/s    \\rsize=  322492kB time=01:25:59.86 bitrate= 512.0kbits/s    \\rsize=  329147kB time=01:27:46.35 bitrate= 512.0kbits/s    \\rsize=  337160kB time=01:29:54.55 bitrate= 512.0kbits/s    \\rsize=  345040kB time=01:32:00.63 bitrate= 512.0kbits/s    \\rsize=  353200kB time=01:34:11.20 bitrate= 512.0kbits/s    \\rsize=  361075kB time=01:36:17.19 bitrate= 512.0kbits/s    \\rsize=  369017kB time=01:38:24.27 bitrate= 512.0kbits/s    \\rsize=  376889kB time=01:40:30.22 bitrate= 512.0kbits/s    \\rsize=  384734kB time=01:42:35.74 bitrate= 512.0kbits/s    \\rsize=  392512kB time=01:44:40.18 bitrate= 512.0kbits/s    \\rsize=  398880kB time=01:46:22.07 bitrate= 512.0kbits/s    \\rsize=  406828kB time=01:48:29.24 bitrate= 512.0kbits/s    \\rsize=  414666kB time=01:50:34.65 bitrate= 512.0kbits/s    \\rsize=  422570kB time=01:52:41.11 bitrate= 512.0kbits/s    \\rsize=  430388kB time=01:54:46.20 bitrate= 512.0kbits/s    \\rsize=  438394kB time=01:56:54.30 bitrate= 512.0kbits/s    \\rsize=  446186kB time=01:58:58.97 bitrate= 512.0kbits/s    \\rsize=  454024kB time=02:01:04.38 bitrate= 512.0kbits/s    \\rsize=  460366kB time=02:02:45.85 bitrate= 512.0kbits/s    \\rsize=  468213kB time=02:04:51.40 bitrate= 512.0kbits/s    \\rsize=  476050kB time=02:06:56.79 bitrate= 512.0kbits/s    \\rsize=  487088kB time=02:09:53.40 bitrate= 512.0kbits/s    \\nvideo:0kB audio:487088kB subtitle:0kB other streams:0kB global headers:0kB muxing overhead: 0.000016%\")\n",
      "(0, '')\n",
      "Now start preparing configure file\n",
      "Now start clustering\n",
      "(0, '/usr/bin/ld: skipping incompatible /usr/local/cuda-7.0/lib/libcudart.so when searching for -lcudart\\nIn file included from /home/hxx124/myPython/virtualenv-1.9/ENV/lib/python2.7/site-packages/numpy/core/include/numpy/ndarraytypes.h:1777,\\n                 from /home/hxx124/myPython/virtualenv-1.9/ENV/lib/python2.7/site-packages/numpy/core/include/numpy/ndarrayobject.h:18,\\n                 from /home/hxx124/myPython/virtualenv-1.9/ENV/lib/python2.7/site-packages/numpy/core/include/numpy/arrayobject.h:4,\\n                 from /tmp/pbsjobs.460477.hpc/asp_cache_hxx124/38d44195c321f1de7e40420e316a4733/module.cpp:9:\\n/home/hxx124/myPython/virtualenv-1.9/ENV/lib/python2.7/site-packages/numpy/core/include/numpy/npy_1_7_deprecated_api.h:15:2: warning: #warning \"Using deprecated NumPy API, disable it by \" \"#defining NPY_NO_DEPRECATED_API NPY_1_7_API_VERSION\"\\ng++ -pthread -fno-strict-aliasing -g -O2 -g -fwrapv -O3 -Wall -fPIC -pthread -shared -Xlinker -export-dynamic -DNDEBUG -I/usr/local/python/2.7.8/include/python2.7 -I/usr/local/cuda-7.0/include /tmp/pbsjobs.460477.hpc/asp_cache_hxx124/46c837d5cb878372cdb2886923bd37a6/module.o /tmp/pbsjobs.460477.hpc/asp_cache_hxx124/7ceed7a1666bbc7019867d851e0660de/gpu.o -L/usr/local/python/2.7.8/lib -L/usr/local/cuda-7.0/lib -L/usr/local/cuda-7.0/lib64 -lcuda -lcudart -lboost_python -lpython2.7 -lpthread -ldl -lutil -o /tmp/pbsjobs.460477.hpc/asp_cache_hxx124/codepy.temp.46c837d5cb878372cdb2886923bd37a6.7ceed7a1666bbc7019867d851e0660de.module.so\\nUsing the config file specified: \\' Data/Model/DiaCfg/2015-08-07_0050_US_FOX-News_US_Presidential_Politics.cfg \\'\\nSpeech file spnsp_file not specified, continuing without it...\\n...Reading in HTK feature file...\\nINFO: total number of frames read:  779339\\n...Reading in speech/nonspeech file...\\n ====================== CLUSTERING ON SUBSET ====================== \\nGMM SPECIALIZER: USING CUDA\\nrecompiling for non-existent cache dir (/tmp/pbsjobs.460477.hpc/asp_cache_hxx124/38d44195c321f1de7e40420e316a4733).\\ng++ -pthread -fno-strict-aliasing -g -O2 -g -fwrapv -O3 -Wall -fPIC -c -DNDEBUG -I/usr/local/python/2.7.8/include/python2.7 -I/home/hxx124/myPython/virtualenv-1.9/ENV/lib/python2.7/site-packages/numpy/core/include -I/usr/local/cuda-7.0/include /tmp/pbsjobs.460477.hpc/asp_cache_hxx124/38d44195c321f1de7e40420e316a4733/module.cpp -o /tmp/pbsjobs.460477.hpc/asp_cache_hxx124/38d44195c321f1de7e40420e316a4733/module.o\\nrecompiling for non-existent cache dir (/tmp/pbsjobs.460477.hpc/asp_cache_hxx124/11dee452985a0f3b9b6a40453d090df4).\\nnvcc -Xcompiler -pthread,-fno-strict-aliasing,-g,-O2,-g,-fwrapv,-O3,-Wall,-Wstrict-prototypes,-fPIC -shared -Xcompiler -fPIC -arch=sm_20 -c -DNDEBUG -U__BLOCKS__ -I/usr/local/python/2.7.8/include/python2.7 -I/home/hxx124/myPython/virtualenv-1.9/ENV/lib/python2.7/site-packages/numpy/core/include -I/usr/local/cuda-7.0/include /tmp/pbsjobs.460477.hpc/asp_cache_hxx124/11dee452985a0f3b9b6a40453d090df4/gpu.cu -o /tmp/pbsjobs.460477.hpc/asp_cache_hxx124/11dee452985a0f3b9b6a40453d090df4/gpu.o\\ncc1plus: warning: command line option \"-Wstrict-prototypes\" is valid for Ada/C/ObjC but not for C++\\n/tmp/pbsjobs.460477.hpc/asp_cache_hxx124/11dee452985a0f3b9b6a40453d090df4/gpu.cu(193): warning: variable \"maxsize\" was declared but never referenced\\n\\n/tmp/pbsjobs.460477.hpc/asp_cache_hxx124/11dee452985a0f3b9b6a40453d090df4/gpu.cu(194): warning: variable \"n\" was declared but never referenced\\n\\n/tmp/pbsjobs.460477.hpc/asp_cache_hxx124/11dee452985a0f3b9b6a40453d090df4/gpu.cu(195): warning: variable \"num_threads\" was declared but never referenced\\n\\n/tmp/pbsjobs.460477.hpc/asp_cache_hxx124/11dee452985a0f3b9b6a40453d090df4/gpu.cu(290): warning: variable \"row\" was declared but never referenced\\n\\n/tmp/pbsjobs.460477.hpc/asp_cache_hxx124/11dee452985a0f3b9b6a40453d090df4/gpu.cu(290): warning: variable \"col\" was declared but never referenced\\n\\n/tmp/pbsjobs.460477.hpc/asp_cache_hxx124/11dee452985a0f3b9b6a40453d090df4/gpu.cu(378): warning: variable \"row\" was declared but never referenced\\n\\n/tmp/pbsjobs.460477.hpc/asp_cache_hxx124/11dee452985a0f3b9b6a40453d090df4/gpu.cu(378): warning: variable \"col\" was declared but never referenced\\n\\n/tmp/pbsjobs.460477.hpc/asp_cache_hxx124/11dee452985a0f3b9b6a40453d090df4/gpu.cu(430): warning: variable \"num_threads\" was declared but never referenced\\n\\n/tmp/pbsjobs.460477.hpc/asp_cache_hxx124/11dee452985a0f3b9b6a40453d090df4/gpu.cu(494): warning: variable \"num_components\" was declared but never referenced\\n\\n/tmp/pbsjobs.460477.hpc/asp_cache_hxx124/11dee452985a0f3b9b6a40453d090df4/gpu.cu(756): warning: variable \"avgvar\" was declared but never referenced\\n\\n/tmp/pbsjobs.460477.hpc/asp_cache_hxx124/11dee452985a0f3b9b6a40453d090df4/gpu.cu(1230): warning: variable \"num_threads\" was declared but never referenced\\n\\n/tmp/pbsjobs.460477.hpc/asp_cache_hxx124/11dee452985a0f3b9b6a40453d090df4/gpu.cu(1231): warning: variable \"num_dimensions\" was declared but never referenced\\n\\n/tmp/pbsjobs.460477.hpc/asp_cache_hxx124/11dee452985a0f3b9b6a40453d090df4/gpu.cu(1232): warning: variable \"row\" was declared but never referenced\\n\\n/tmp/pbsjobs.460477.hpc/asp_cache_hxx124/11dee452985a0f3b9b6a40453d090df4/gpu.cu(1232): warning: variable \"col\" was declared but never referenced\\n\\n/tmp/pbsjobs.460477.hpc/asp_cache_hxx124/11dee452985a0f3b9b6a40453d090df4/gpu.cu(1372): warning: variable \"row\" was declared but never referenced\\n\\n/tmp/pbsjobs.460477.hpc/asp_cache_hxx124/11dee452985a0f3b9b6a40453d090df4/gpu.cu(1372): warning: variable \"col\" was declared but never referenced\\n\\n/tmp/pbsjobs.460477.hpc/asp_cache_hxx124/11dee452985a0f3b9b6a40453d090df4/gpu.cu(1460): warning: variable \"row\" was declared but never referenced\\n\\n/tmp/pbsjobs.460477.hpc/asp_cache_hxx124/11dee452985a0f3b9b6a40453d090df4/gpu.cu(1460): warning: variable \"col\" was declared but never referenced\\n\\n/tmp/pbsjobs.460477.hpc/asp_cache_hxx124/11dee452985a0f3b9b6a40453d090df4/gpu.cu(1512): warning: variable \"num_threads\" was declared but never referenced\\n\\n/tmp/pbsjobs.460477.hpc/asp_cache_hxx124/11dee452985a0f3b9b6a40453d090df4/gpu.cu(1576): warning: variable \"num_components\" was declared but never referenced\\n\\n/tmp/pbsjobs.460477.hpc/asp_cache_hxx124/11dee452985a0f3b9b6a40453d090df4/gpu.cu(1839): warning: variable \"avgvar\" was declared but never referenced\\n\\n/tmp/pbsjobs.460477.hpc/asp_cache_hxx124/11dee452985a0f3b9b6a40453d090df4/gpu.cu(25): warning: function \"ToFixedPoint\" was declared but never referenced\\n\\n/tmp/pbsjobs.460477.hpc/asp_cache_hxx124/11dee452985a0f3b9b6a40453d090df4/gpu.cu(31): warning: function \"ToFloatPoint\" was declared but never referenced\\n\\ncc1plus: warning: command line option \"-Wstrict-prototypes\" is valid for Ada/C/ObjC but not for C++\\n/tmp/pbsjobs.460477.hpc/asp_cache_hxx124/11dee452985a0f3b9b6a40453d090df4/gpu.cu(193): warning: variable \"maxsize\" was declared but never referenced\\n\\n/tmp/pbsjobs.460477.hpc/asp_cache_hxx124/11dee452985a0f3b9b6a40453d090df4/gpu.cu(194): warning: variable \"n\" was declared but never referenced\\n\\n/tmp/pbsjobs.460477.hpc/asp_cache_hxx124/11dee452985a0f3b9b6a40453d090df4/gpu.cu(195): warning: variable \"num_threads\" was declared but never referenced\\n\\n/tmp/pbsjobs.460477.hpc/asp_cache_hxx124/11dee452985a0f3b9b6a40453d090df4/gpu.cu(290): warning: variable \"row\" was declared but never referenced\\n\\n/tmp/pbsjobs.460477.hpc/asp_cache_hxx124/11dee452985a0f3b9b6a40453d090df4/gpu.cu(290): warning: variable \"col\" was declared but never referenced\\n\\n/tmp/pbsjobs.460477.hpc/asp_cache_hxx124/11dee452985a0f3b9b6a40453d090df4/gpu.cu(378): warning: variable \"row\" was declared but never referenced\\n\\n/tmp/pbsjobs.460477.hpc/asp_cache_hxx124/11dee452985a0f3b9b6a40453d090df4/gpu.cu(378): warning: variable \"col\" was declared but never referenced\\n\\n/tmp/pbsjobs.460477.hpc/asp_cache_hxx124/11dee452985a0f3b9b6a40453d090df4/gpu.cu(430): warning: variable \"num_threads\" was declared but never referenced\\n\\n/tmp/pbsjobs.460477.hpc/asp_cache_hxx124/11dee452985a0f3b9b6a40453d090df4/gpu.cu(494): warning: variable \"num_components\" was declared but never referenced\\n\\n/tmp/pbsjobs.460477.hpc/asp_cache_hxx124/11dee452985a0f3b9b6a40453d090df4/gpu.cu(756): warning: variable \"avgvar\" was declared but never referenced\\n\\n/tmp/pbsjobs.460477.hpc/asp_cache_hxx124/11dee452985a0f3b9b6a40453d090df4/gpu.cu(1230): warning: variable \"num_threads\" was declared but never referenced\\n\\n/tmp/pbsjobs.460477.hpc/asp_cache_hxx124/11dee452985a0f3b9b6a40453d090df4/gpu.cu(1231): warning: variable \"num_dimensions\" was declared but never referenced\\n\\n/tmp/pbsjobs.460477.hpc/asp_cache_hxx124/11dee452985a0f3b9b6a40453d090df4/gpu.cu(1232): warning: variable \"row\" was declared but never referenced\\n\\n/tmp/pbsjobs.460477.hpc/asp_cache_hxx124/11dee452985a0f3b9b6a40453d090df4/gpu.cu(1232): warning: variable \"col\" was declared but never referenced\\n\\n/tmp/pbsjobs.460477.hpc/asp_cache_hxx124/11dee452985a0f3b9b6a40453d090df4/gpu.cu(1372): warning: variable \"row\" was declared but never referenced\\n\\n/tmp/pbsjobs.460477.hpc/asp_cache_hxx124/11dee452985a0f3b9b6a40453d090df4/gpu.cu(1372): warning: variable \"col\" was declared b/usr/bin/ld: skipping incompatible /usr/local/cuda-7.0/lib/libcudart.so when searching for -lcudart\\nut never referenced\\n\\n/tmp/pbsjobs.460477.hpc/asp_cache_hxx124/11dee452985a0f3b9b6a40453d090df4/gpu.cu(1460): warning: variable \"row\" was declared but never referenced\\n\\n/tmp/pbsjobs.460477.hpc/asp_cache_hxx124/11dee452985a0f3b9b6a40453d090df4/gpu.cu(1460): warning: variable \"col\" was declared but never referenced\\n\\n/tmp/pbsjobs.460477.hpc/asp_cache_hxx124/11dee452985a0f3b9b6a40453d090df4/gpu.cu(1512): warning: variable \"num_threads\" was declared but never referenced\\n\\n/tmp/pbsjobs.460477.hpc/asp_cache_hxx124/11dee452985a0f3b9b6a40453d090df4/gpu.cu(1576): warning: variable \"num_components\" was declared but never referenced\\n\\n/tmp/pbsjobs.460477.hpc/asp_cache_hxx124/11dee452985a0f3b9b6a40453d090df4/gpu.cu(1839): warning: variable \"avgvar\" was declared but never referenced\\n\\n/tmp/pbsjobs.460477.hpc/asp_cache_hxx124/11dee452985a0f3b9b6a40453d090df4/gpu.cu(25): warning: function \"ToFixedPoint\" was declared but never referenced\\n\\n/tmp/pbsjobs.460477.hpc/asp_cache_hxx124/11dee452985a0f3b9b6a40453d090df4/gpu.cu(31): warning: function \"ToFloatPoint\" was declared but never referenced\\n\\ncc1plus: warning: command line option \"-Wstrict-prototypes\" is valid for Ada/C/ObjC but not for C++\\ncc1plus: warning: command line option \"-Wstrict-prototypes\" is valid for Ada/C/ObjC but not for C++\\n\\n\\ng++ -pthread -fno-strict-aliasing -g -O2 -g -fwrapv -O3 -Wall -fPIC -pthread -shared -Xlinker -export-dynamic -DNDEBUG -I/usr/local/python/2.7.8/include/python2.7 -I/home/hxx124/myPython/virtualenv-1.9/ENV/lib/python2.7/site-packages/numpy/core/include -I/usr/local/cuda-7.0/include /tmp/pbsjobs.460477.hpc/asp_cache_hxx124/38d44195c321f1de7e40420e316a4733/module.o /tmp/pbsjobs.460477.hpc/asp_cache_hxx124/11dee452985a0f3b9b6a40453d090df4/gpu.o -L/usr/local/python/2.7.8/lib -L/usr/local/cuda-7.0/lib -L/usr/local/cuda-7.0/lib64 -lcuda -lcudart -lboost_python -lpython2.7 -lpthread -ldl -lutil -o /tmp/pbsjobs.460477.hpc/asp_cache_hxx124/codepy.temp.38d44195c321f1de7e40420e316a4733.11dee452985a0f3b9b6a40453d090df4.module.so\\n size of each cluster: [5, 5, 5, 5, 5, 5, 5, 5, 5, 5, 5, 5, 5, 5, 5, 5, 5, 5, 10]\\n size of each cluster: [5, 5, 5, 5, 5, 5, 5, 5, 5, 5, 5, 5, 5, 5, 5, 5, 10, 10]\\n size of each cluster: [5, 5, 5, 5, 5, 5, 5, 5, 5, 5, 5, 5, 5, 5, 10, 10, 10]\\n size of each cluster: [5, 5, 5, 5, 5, 5, 5, 5, 5, 5, 5, 5, 5, 10, 10, 15]\\n size of each cluster: [5, 5, 5, 5, 5, 5, 5, 5, 5, 5, 5, 10, 10, 15, 10]\\n size of each cluster: [5, 5, 5, 5, 5, 5, 5, 5, 5, 10, 10, 15, 10, 10]\\n size of each cluster: [5, 5, 5, 5, 5, 5, 5, 5, 10, 10, 15, 10, 15]\\n size of each cluster: [5, 5, 5, 5, 5, 5, 5, 10, 10, 15, 10, 20]\\n size of each cluster: [5, 5, 5, 5, 5, 5, 10, 15, 10, 20, 15]\\n size of each cluster: [5, 5, 5, 5, 5, 5, 10, 15, 10, 35]\\n size of each cluster: [5, 5, 5, 5, 5, 15, 10, 35, 15]\\n size of each cluster: [5, 5, 5, 5, 10, 35, 15, 20]\\n size of each cluster: [5, 5, 5, 35, 15, 20, 15]\\n size of each cluster: [5, 5, 35, 15, 20, 20]\\n size of each cluster: [5, 5, 15, 20, 55]\\n size of each cluster: [5, 15, 20, 60]\\n size of each cluster: [5, 60, 35]\\n size of each cluster: [35, 65]\\n size of each cluster: [100]\\n=== Total clustering time:  956.094987154\\n=== Final size of each cluster: [100]\\n...Writing out RTTM file...\\nDONE writing RTTM file')\n",
      "(0, '')\n"
     ]
    }
   ],
   "source": [
    "# Speaker Diarization\n",
    "dia_dir = \"Data/Diarization/\"\n",
    "commands.getstatusoutput(\"mkdir -p \"+dia_dir)\n",
    "dia_ext = \".rttm\"\n",
    "Diarization(audio, dest_cfg=\"Data/Model/DiaCfg\", dest_rttm=dia_dir, dest_mfcc=\"Data/MFCC/\")\n",
    "dia = os.path.join(dia_dir,name+dia_ext)"
   ]
  },
  {
   "cell_type": "code",
   "execution_count": 19,
   "metadata": {
    "collapsed": false
   },
   "outputs": [],
   "source": [
    "# Below you can find an example on training a fresh model\n",
    "# However, please make sure that the sample rate of your training data is the same with your testing data\n",
    "model_gender_dir = \"Data/Model/Gender/\"\n",
    "model_gender_nm = 'gender.model'\n",
    "Gender = SR.GMMRec() # Create a new recognizer\n",
    "female_fn = model_gender_dir+'female.wav' # choose the training file for female\n",
    "male_fn = model_gender_dir+'male.wav' # choose the training file for male\n",
    "Gender.enroll_file('Female', female_fn) # enroll the female audio \n",
    "Gender.enroll_file('Male', male_fn) # enroll the male audio \n",
    "Gender.train() # train the GMMs after you enroll all the training data \n",
    "Gender.dump(model_gender_dir+model_gender_nm) # save the trained model into a file named \"gender.model\" for future use"
   ]
  },
  {
   "cell_type": "code",
   "execution_count": 7,
   "metadata": {
    "collapsed": false
   },
   "outputs": [
    {
     "name": "stdout",
     "output_type": "stream",
     "text": [
      "(0, '')\n"
     ]
    }
   ],
   "source": [
    "# Gender Identification based on Speaker Diarization\n",
    "model_gender_dir = \"Data/Model/Gender/\"\n",
    "model_gender_nm = 'gender.model'\n",
    "model_gender = model_gender_dir+model_gender_nm # Read from the model\n",
    "gen_dir = \"Data/Gender/\"\n",
    "commands.getstatusoutput(\"mkdir -p \"+gen_dir)\n",
    "ext_gen = \".gen\"\n",
    "dia2spk(model_gender, audio, dia, meta, gen_dir, ext_gen)\n",
    "gen = os.path.join(gen_dir, name+ext_gen)"
   ]
  },
  {
   "cell_type": "code",
   "execution_count": 8,
   "metadata": {
    "collapsed": false
   },
   "outputs": [
    {
     "name": "stdout",
     "output_type": "stream",
     "text": [
      "(0, '')\n"
     ]
    }
   ],
   "source": [
    "# Gender Identification without Speaker Diarization\n",
    "model_genr = model_gender_dir+model_gender_nm\n",
    "genr_dir = \"Data/Gender/\"\n",
    "commands.getstatusoutput(\"mkdir -p \"+genr_dir)\n",
    "ext_genr = \".genr\"\n",
    "spk(model_genr, audio, meta, genr_dir, ext_genr)\n",
    "genr = os.path.join(genr_dir, name+ext_genr)"
   ]
  },
  {
   "cell_type": "code",
   "execution_count": 9,
   "metadata": {
    "collapsed": false
   },
   "outputs": [],
   "source": [
    "# you can train a fresh model as follows:\n",
    "\n",
    "model_speaker_dir = \"Data/Model/Speaker/\" # The training data should already be here!! \n",
    "model_speaker_nm = 'speaker.model'\n",
    "Speaker = SR.GMMRec() # Create a new recognizer\n",
    "other_fn = model_speaker_dir+'Imposter.wav' # choose the training file for female\n",
    "trump_fn = model_speaker_dir+'Trump.wav' # choose the training file for male\n",
    "Speaker.enroll_file('Other', other_fn) # enroll the female audio \n",
    "Speaker.enroll_file('Trump', trump_fn) # enroll the male audio \n",
    "# You can add more speakers here following the syntax above\n",
    "Speaker.train() # train the GMMs after you enroll all the training data \n",
    "Speaker.dump(model_speaker_dir+model_speaker_nm) # save the trained model into a file named \"gender.model\" for future use"
   ]
  },
  {
   "cell_type": "code",
   "execution_count": 11,
   "metadata": {
    "collapsed": false
   },
   "outputs": [
    {
     "name": "stdout",
     "output_type": "stream",
     "text": [
      "(0, '')\n"
     ]
    }
   ],
   "source": [
    "# Speaker Recognition based Speaker Diarization\n",
    "model_spk = model_speaker_dir+model_speaker_nm\n",
    "spk_dir = \"Data/Speaker/\"\n",
    "commands.getstatusoutput(\"mkdir -p \"+spk_dir)\n",
    "ext_spk = \".spk\"\n",
    "spk(model_spk, audio, meta, spk_dir, ext_spk)\n",
    "spk = os.path.join(spk_dir, name+ext_spk)"
   ]
  },
  {
   "cell_type": "code",
   "execution_count": 10,
   "metadata": {
    "collapsed": false
   },
   "outputs": [
    {
     "name": "stdout",
     "output_type": "stream",
     "text": [
      "(0, '')\n"
     ]
    }
   ],
   "source": [
    "# Speaker Recognition without Speaker Diarization\n",
    "model_speaker_dir = \"Data/Model/Speaker/\"\n",
    "model_speaker_nm = 'speaker.model'\n",
    "model_spkr = model_speaker_dir+model_speaker_nm\n",
    "spkr_dir = \"Data/Speaker/\"\n",
    "commands.getstatusoutput(\"mkdir -p \"+spkr_dir)\n",
    "ext_spkr = \".spkr\"\n",
    "spk(model_spkr, audio, meta, spkr_dir, ext_spkr)\n",
    "spkr = os.path.join(spkr_dir, name+ext_spkr)"
   ]
  },
  {
   "cell_type": "code",
   "execution_count": 31,
   "metadata": {
    "collapsed": false
   },
   "outputs": [
    {
     "data": {
      "text/plain": [
       "(0,\n",
       " \"ffmpeg version 2.8.2 Copyright (c) 2000-2015 the FFmpeg developers\\n  built with gcc 4.9.3 (GCC)\\n  configuration: --prefix=/usr/local/ffmpeg/2.8.2 --enable-shared\\n  libavutil      54. 31.100 / 54. 31.100\\n  libavcodec     56. 60.100 / 56. 60.100\\n  libavformat    56. 40.101 / 56. 40.101\\n  libavdevice    56.  4.100 / 56.  4.100\\n  libavfilter     5. 40.101 /  5. 40.101\\n  libswscale      3.  1.101 /  3.  1.101\\n  libswresample   1.  2.101 /  1.  2.101\\nInput #0, mov,mp4,m4a,3gp,3g2,mj2, from 'Data/Video/2015-08-07_0050_US_FOX-News_US_Presidential_Politics.mp4':\\n  Metadata:\\n    major_brand     : isom\\n    minor_version   : 512\\n    compatible_brands: isomiso2avc1mp41\\n    encoder         : Lavf56.15.102\\n  Duration: 02:09:53.49, start: 0.046440, bitrate: 554 kb/s\\n    Stream #0:0(und): Video: h264 (High) (avc1 / 0x31637661), yuv420p, 640x362 [SAR 181:180 DAR 16:9], 449 kb/s, 29.97 fps, 29.97 tbr, 11988 tbn, 59.94 tbc (default)\\n    Metadata:\\n      handler_name    : VideoHandler\\n    Stream #0:1(und): Audio: aac (LC) (mp4a / 0x6134706D), 44100 Hz, stereo, fltp, 96 kb/s (default)\\n    Metadata:\\n      handler_name    : SoundHandler\\nOutput #0, wav, to 'Data/Audio/2015-08-07_0050_US_FOX-News_US_Presidential_Politics.wav':\\n  Metadata:\\n    major_brand     : isom\\n    minor_version   : 512\\n    compatible_brands: isomiso2avc1mp41\\n    ISFT            : Lavf56.40.101\\n    Stream #0:0(und): Audio: pcm_s16le ([1][0][0][0] / 0x0001), 44100 Hz, stereo, s16, 1411 kb/s (default)\\n    Metadata:\\n      handler_name    : SoundHandler\\n      encoder         : Lavc56.60.100 pcm_s16le\\nStream mapping:\\n  Stream #0:1 -> #0:0 (aac (native) -> pcm_s16le (native))\\nPress [q] to stop, [?] for help\\nsize=   29208kB time=00:02:49.55 bitrate=1411.2kbits/s    \\rsize=   65540kB time=00:06:20.45 bitrate=1411.2kbits/s    \\rsize=  103432kB time=00:10:00.42 bitrate=1411.2kbits/s    \\rsize=  134116kB time=00:12:58.54 bitrate=1411.2kbits/s    \\rsize=  172416kB time=00:16:40.87 bitrate=1411.2kbits/s    \\rsize=  199840kB time=00:19:20.06 bitrate=1411.2kbits/s    \\rsize=  237368kB time=00:22:57.91 bitrate=1411.2kbits/s    \\rsize=  267728kB time=00:25:54.15 bitrate=1411.2kbits/s    \\rsize=  305184kB time=00:29:31.58 bitrate=1411.2kbits/s    \\rsize=  333776kB time=00:32:17.56 bitrate=1411.2kbits/s    \\rsize=  370736kB time=00:35:52.11 bitrate=1411.2kbits/s    \\rsize=  399684kB time=00:38:40.16 bitrate=1411.2kbits/s    \\rsize=  435832kB time=00:42:09.99 bitrate=1411.2kbits/s    \\rsize=  465496kB time=00:45:02.19 bitrate=1411.2kbits/s    \\rsize=  502972kB time=00:48:39.74 bitrate=1411.2kbits/s    \\rsize=  532612kB time=00:51:31.80 bitrate=1411.2kbits/s    \\rsize=  569576kB time=00:55:06.38 bitrate=1411.2kbits/s    \\rsize=  599108kB time=00:57:57.81 bitrate=1411.2kbits/s    \\rsize=  636200kB time=01:01:33.13 bitrate=1411.2kbits/s    \\rsize=  665628kB time=01:04:23.96 bitrate=1411.2kbits/s    \\rsize=  703164kB time=01:08:01.85 bitrate=1411.2kbits/s    \\rsize=  731736kB time=01:10:47.71 bitrate=1411.2kbits/s    \\rsize=  768276kB time=01:14:19.83 bitrate=1411.2kbits/s    \\rsize=  796296kB time=01:17:02.48 bitrate=1411.2kbits/s    \\rsize=  833360kB time=01:20:37.64 bitrate=1411.2kbits/s    \\rsize=  863068kB time=01:23:30.09 bitrate=1411.2kbits/s    \\rsize=  900060kB time=01:27:04.83 bitrate=1411.2kbits/s    \\rsize=  930248kB time=01:30:00.07 bitrate=1411.2kbits/s    \\rsize=  967160kB time=01:33:34.35 bitrate=1411.2kbits/s    \\rsize=  995508kB time=01:36:18.91 bitrate=1411.2kbits/s    \\rsize= 1031964kB time=01:39:50.53 bitrate=1411.2kbits/s    \\rsize= 1061324kB time=01:42:40.97 bitrate=1411.2kbits/s    \\rsize= 1099444kB time=01:46:22.25 bitrate=1411.2kbits/s    \\rsize= 1128456kB time=01:49:10.67 bitrate=1411.2kbits/s    \\rsize= 1165560kB time=01:52:46.06 bitrate=1411.2kbits/s    \\rsize= 1195448kB time=01:55:39.56 bitrate=1411.2kbits/s    \\rsize= 1232888kB time=01:59:16.90 bitrate=1411.2kbits/s    \\rsize= 1262364kB time=02:02:08.00 bitrate=1411.2kbits/s    \\rsize= 1299544kB time=02:05:43.83 bitrate=1411.2kbits/s    \\rsize= 1328524kB time=02:08:32.06 bitrate=1411.2kbits/s    \\rsize= 1342536kB time=02:09:53.40 bitrate=1411.2kbits/s    \\nvideo:0kB audio:1342536kB subtitle:0kB other streams:0kB global headers:0kB muxing overhead: 0.000006%\")"
      ]
     },
     "execution_count": 31,
     "metadata": {},
     "output_type": "execute_result"
    }
   ],
   "source": [
    "commands.getstatusoutput(\"ffmpeg -i \"+video+\" -vn -f wav -ab 44100 \"+\n",
    "                             os.path.join(audio_dir,video.split(\"/\")[-1].split(\".\")[0]+audio_ext))"
   ]
  },
  {
   "cell_type": "code",
   "execution_count": 6,
   "metadata": {
    "collapsed": false
   },
   "outputs": [
    {
     "data": {
      "text/plain": [
       "(44100, array([[0, 0],\n",
       "        [0, 0],\n",
       "        [0, 0],\n",
       "        ..., \n",
       "        [0, 0],\n",
       "        [0, 0],\n",
       "        [0, 0]], dtype=int16))"
      ]
     },
     "execution_count": 6,
     "metadata": {},
     "output_type": "execute_result"
    }
   ],
   "source": [
    "wav.read(audio)"
   ]
  },
  {
   "cell_type": "code",
   "execution_count": 8,
   "metadata": {
    "collapsed": false
   },
   "outputs": [
    {
     "data": {
      "text/plain": [
       "'Data/Audio/2015-08-07_0050_US_FOX-News_US_Presidential_Politics.wav'"
      ]
     },
     "execution_count": 8,
     "metadata": {},
     "output_type": "execute_result"
    }
   ],
   "source": [
    "audio"
   ]
  },
  {
   "cell_type": "code",
   "execution_count": null,
   "metadata": {
    "collapsed": true
   },
   "outputs": [],
   "source": []
  }
 ],
 "metadata": {
  "kernelspec": {
   "display_name": "Python 2",
   "language": "python",
   "name": "python2"
  },
  "language_info": {
   "codemirror_mode": {
    "name": "ipython",
    "version": 2
   },
   "file_extension": ".py",
   "mimetype": "text/x-python",
   "name": "python",
   "nbconvert_exporter": "python",
   "pygments_lexer": "ipython2",
   "version": "2.7.8"
  }
 },
 "nbformat": 4,
 "nbformat_minor": 0
}
