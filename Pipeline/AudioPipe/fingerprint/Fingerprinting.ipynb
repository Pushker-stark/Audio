{
 "cells": [
  {
   "cell_type": "code",
   "execution_count": 95,
   "metadata": {
    "collapsed": true
   },
   "outputs": [],
   "source": [
    "import subprocess, sys\n",
    "\n",
    "def CallPanako(subapp, arglist, DB_path = None):\n",
    "    #check if the path for the database exist already, if not, fail\n",
    "    if DB_path is not None:\n",
    "        _, err, _ = Commandline([\"cd\", DB_path])\n",
    "        if err != \"\":\n",
    "            raise NameError(err)\n",
    "            sys.exit(0)\n",
    "        Place(DB_path + \"/dbs\")\n",
    "        pwd, _, _ = Commandline([\"pwd\"])\n",
    "        return Commandline([\"java\", \"-jar\", pwd.rstrip() + \"/panako/panako.jar\", subapp] + arglist, DB_path)\n",
    "    else :\n",
    "        Place(\"/dbs\")\n",
    "        return Commandline([\"java\", \"-jar\", \"panako/panako.jar\", subapp] + arglist)\n",
    "    \n",
    "\n",
    "def Store(Audio_path, db_path = None):\n",
    "    subapp = \"store\"\n",
    "    return CallPanako(subapp, [Audio_path], db_path)\n",
    "\n",
    "def Query(Audio_path, db_path = None):\n",
    "    subapp = \"query\"\n",
    "    return CallPanako(subapp, [Audio_path], db_path)\n",
    "\n",
    "def Place(Store_path):\n",
    "    return Commandline([\"mkdir\", Store_path])\n",
    "\n",
    "def Commandline(arglist, cwd_path = None):\n",
    "    p = subprocess.Popen(arglist,\n",
    "                         stdout = subprocess.PIPE, stderr = subprocess.PIPE, cwd = cwd_path)\n",
    "    output, err = p.communicate()\n",
    "    exitcode = p.returncode\n",
    "    return output, err, exitcode\n",
    "    "
   ]
  },
  {
   "cell_type": "code",
   "execution_count": 101,
   "metadata": {
    "collapsed": false
   },
   "outputs": [
    {
     "data": {
      "text/plain": [
       "('Query;Query start (s);Query stop (s); Match Identifier;Match description; Match start (s); Match score; Time factor (%); Frequency factor(%)\\n/Users/xuhe/Documents/Pipeline/Audio/Pipeline/AudioPipe/fingerprinting/../mattia/cerrato-soc/clip-find/output.m4a;0;5;1711235912;output.m4a;0;23;100%;100%\\n',\n",
       " \"Feb 18, 2016 1:09:59 AM be.tarsos.dsp.io.PipeDecoder <init>\\nINFO: found ffmpeg on the path (/opt/local/bin:/opt/local/sbin:/Developer/NVIDIA/CUDA-7.0/bin:/Users/xuhe/anaconda/bin:/opt/local/bin:/opt/local/sbin:/opt/local/bin:/opt/local/sbin:/Library/Frameworks/Python.framework/Versions/2.7/bin:/Users/xuhe/anaconda3/bin:/Library/Frameworks/Python.framework/Versions/3.4/bin:/usr/local/bin:/usr/bin:/bin:/usr/sbin:/sbin:/opt/X11/bin:/Library/TeX/texbin). Will use ffmpeg for decoding media files.\\nFeb 18, 2016 1:09:59 AM be.panako.cli.Panako actuallyReallyStartApplication\\nINFO: Starting Panako application query with 1 arguments\\nFeb 18, 2016 1:09:59 AM be.tarsos.dsp.io.PipeDecoder getDecodedStream\\nINFO: Starting piped decoding process for /Users/xuhe/Documents/Pipeline/Audio/Pipeline/AudioPipe/fingerprinting/../mattia/cerrato-soc/clip-find/output.m4a\\nFeb 18, 2016 1:09:59 AM be.tarsos.dsp.io.PipeDecoder$ErrorStreamGobbler run\\nINFO: avconv version 11.4, Copyright (c) 2000-2014 the Libav developers\\nFeb 18, 2016 1:09:59 AM be.tarsos.dsp.io.PipeDecoder$ErrorStreamGobbler run\\nINFO:   built on Oct 16 2015 09:05:58 with Apple LLVM version 7.0.0 (clang-700.0.72)\\nFeb 18, 2016 1:09:59 AM be.tarsos.dsp.io.PipeDecoder$ErrorStreamGobbler run\\nINFO: Input #0, mov,mp4,m4a,3gp,3g2,mj2, from '/Users/xuhe/Documents/Pipeline/Audio/Pipeline/AudioPipe/fingerprinting/../mattia/cerrato-soc/clip-find/output.m4a':\\nFeb 18, 2016 1:09:59 AM be.tarsos.dsp.io.PipeDecoder$ErrorStreamGobbler run\\nINFO:   Metadata:\\nFeb 18, 2016 1:09:59 AM be.tarsos.dsp.io.PipeDecoder$ErrorStreamGobbler run\\nINFO:     major_brand     : M4A \\nFeb 18, 2016 1:09:59 AM be.tarsos.dsp.io.PipeDecoder$ErrorStreamGobbler run\\nINFO:     minor_version   : 512\\nFeb 18, 2016 1:09:59 AM be.tarsos.dsp.io.PipeDecoder$ErrorStreamGobbler run\\nINFO:     compatible_brands: isomiso2\\nFeb 18, 2016 1:09:59 AM be.tarsos.dsp.io.PipeDecoder$ErrorStreamGobbler run\\nINFO:     encoder         : Lavf56.40.101\\nFeb 18, 2016 1:09:59 AM be.tarsos.dsp.io.PipeDecoder$ErrorStreamGobbler run\\nINFO:   Duration: 00:00:05.02, start: 0.023220, bitrate: 131 kb/s\\nFeb 18, 2016 1:09:59 AM be.tarsos.dsp.io.PipeDecoder$ErrorStreamGobbler run\\nINFO:     Stream #0.0(und): Audio: aac, 44100 Hz, stereo, fltp, 128 kb/s (default)\\nFeb 18, 2016 1:09:59 AM be.tarsos.dsp.io.PipeDecoder$ErrorStreamGobbler run\\nINFO: Output #0, s16le, to 'pipe:1':\\nFeb 18, 2016 1:09:59 AM be.tarsos.dsp.io.PipeDecoder$ErrorStreamGobbler run\\nINFO:   Metadata:\\nFeb 18, 2016 1:09:59 AM be.tarsos.dsp.io.PipeDecoder$ErrorStreamGobbler run\\nINFO:     major_brand     : M4A \\nFeb 18, 2016 1:09:59 AM be.tarsos.dsp.io.PipeDecoder$ErrorStreamGobbler run\\nINFO:     minor_version   : 512\\nFeb 18, 2016 1:09:59 AM be.tarsos.dsp.io.PipeDecoder$ErrorStreamGobbler run\\nINFO:     compatible_brands: isomiso2\\nFeb 18, 2016 1:09:59 AM be.tarsos.dsp.io.PipeDecoder$ErrorStreamGobbler run\\nINFO:     encoder         : Lavf56.1.0\\nFeb 18, 2016 1:09:59 AM be.tarsos.dsp.io.PipeDecoder$ErrorStreamGobbler run\\nINFO:     Stream #0.0(und): Audio: pcm_s16le, 8000 Hz, mono, s16, 128 kb/s (default)\\nFeb 18, 2016 1:09:59 AM be.tarsos.dsp.io.PipeDecoder$ErrorStreamGobbler run\\nINFO:     Metadata:\\nFeb 18, 2016 1:09:59 AM be.tarsos.dsp.io.PipeDecoder$ErrorStreamGobbler run\\nINFO:       encoder         : Lavc56.1.0 pcm_s16le\\nFeb 18, 2016 1:09:59 AM be.tarsos.dsp.io.PipeDecoder$ErrorStreamGobbler run\\nINFO: Stream mapping:\\nFeb 18, 2016 1:09:59 AM be.tarsos.dsp.io.PipeDecoder$ErrorStreamGobbler run\\nINFO:   Stream #0:0 -> #0:0 (aac (native) -> pcm_s16le (native))\\nFeb 18, 2016 1:09:59 AM be.tarsos.dsp.io.PipeDecoder$ErrorStreamGobbler run\\nINFO: Press ctrl-c to stop encoding\\nFeb 18, 2016 1:09:59 AM be.tarsos.dsp.io.PipeDecoder$ErrorStreamGobbler run\\nINFO: size=      79kB time=5.04 bitrate= 128.0kbits/s    \\nFeb 18, 2016 1:09:59 AM be.tarsos.dsp.io.PipeDecoder$ErrorStreamGobbler run\\nINFO: video:0kB audio:79kB other streams:0kB global headers:0kB muxing overhead: 0.000000%\\nFeb 18, 2016 1:09:59 AM be.tarsos.dsp.io.PipeDecoder$1 run\\nINFO: Finished piped decoding process\\nFeb 18, 2016 1:09:59 AM be.panako.strategy.nfft.storage.NFFTMapDBStorage getMatches\\nINFO: MapDB answerd to query of 51 hashes in 10.00 ms and found 73 hits.\\n\",\n",
       " 0)"
      ]
     },
     "execution_count": 101,
     "metadata": {},
     "output_type": "execute_result"
    }
   ],
   "source": [
    "Query(\"../mattia/cerrato-soc/clip-find/output.m4a\")"
   ]
  },
  {
   "cell_type": "code",
   "execution_count": null,
   "metadata": {
    "collapsed": true
   },
   "outputs": [],
   "source": [
    "subprocess.call([\"mkdir\", \"-jar\"])\n",
    "\n",
    "subprocess.call([\"java\", \"-jar\", \"panako/panako-1.3-clipfind.jar\", \"store\", AUDIO_PATH+\"/overlap-clips/clips.txt\"])\n"
   ]
  },
  {
   "cell_type": "code",
   "execution_count": null,
   "metadata": {
    "collapsed": true
   },
   "outputs": [],
   "source": [
    "def Video2Audio(input_name, output_name):\n",
    "    ffmpeg -i input.mp3 -c:a aac -strict experimental -b:a 128k output.m4a"
   ]
  },
  {
   "cell_type": "code",
   "execution_count": null,
   "metadata": {
    "collapsed": true
   },
   "outputs": [],
   "source": [
    "ffmpeg -ss 10 -t 6 -i input.mp3 output.mp3"
   ]
  },
  {
   "cell_type": "code",
   "execution_count": 79,
   "metadata": {
    "collapsed": false
   },
   "outputs": [],
   "source": [
    "p = subprocess.Popen([\"cd\", \"dbs/\"],\n",
    "                         stdout = subprocess.PIPE, stderr = subprocess.PIPE)\n",
    "output, err = p.communicate()\n",
    "exitcode = p.returncode"
   ]
  },
  {
   "cell_type": "code",
   "execution_count": 67,
   "metadata": {
    "collapsed": false
   },
   "outputs": [
    {
     "data": {
      "text/plain": [
       "'/Users/xuhe/Documents/Pipeline/Audio/Pipeline/AudioPipe/fingerprinting'"
      ]
     },
     "execution_count": 67,
     "metadata": {},
     "output_type": "execute_result"
    }
   ],
   "source": [
    "ccd.rstrip()"
   ]
  },
  {
   "cell_type": "code",
   "execution_count": 82,
   "metadata": {
    "collapsed": false
   },
   "outputs": [
    {
     "data": {
      "text/plain": [
       "''"
      ]
     },
     "execution_count": 82,
     "metadata": {},
     "output_type": "execute_result"
    }
   ],
   "source": [
    "output"
   ]
  },
  {
   "cell_type": "code",
   "execution_count": 44,
   "metadata": {
    "collapsed": false
   },
   "outputs": [],
   "source": [
    "o, e, rc = Query(\"out.mp3\")"
   ]
  },
  {
   "cell_type": "code",
   "execution_count": 45,
   "metadata": {
    "collapsed": false
   },
   "outputs": [
    {
     "name": "stdout",
     "output_type": "stream",
     "text": [
      "Query;Query start (s);Query stop (s); Match Identifier;Match description; Match start (s); Match score; Time factor (%); Frequency factor(%)\n",
      "/Users/xuhe/Documents/Pipeline/Audio/Pipeline/AudioPipe/fingerprinting/out.mp3;0;20;1627786199;out.mp3;0;159;100%;100%\n",
      "/Users/xuhe/Documents/Pipeline/Audio/Pipeline/AudioPipe/fingerprinting/out.mp3;0;20;1711235005;output.mp3;0;36;100%;100%\n",
      "/Users/xuhe/Documents/Pipeline/Audio/Pipeline/AudioPipe/fingerprinting/out.mp3;0;20;1790434533;audio_0001.mp3;1617;23;100%;100%\n"
     ]
    }
   ],
   "source": [
    "import sys\n",
    "sys.stdout.write(o)"
   ]
  },
  {
   "cell_type": "code",
   "execution_count": 23,
   "metadata": {
    "collapsed": false
   },
   "outputs": [
    {
     "data": {
      "text/plain": [
       "\"Feb 11, 2016 11:35:42 PM be.tarsos.dsp.io.PipeDecoder <init>\\nINFO: found ffmpeg on the path (/opt/local/bin:/opt/local/sbin:/Developer/NVIDIA/CUDA-7.0/bin:/Users/xuhe/anaconda/bin:/opt/local/bin:/opt/local/sbin:/opt/local/bin:/opt/local/sbin:/Library/Frameworks/Python.framework/Versions/2.7/bin:/Users/xuhe/anaconda3/bin:/Library/Frameworks/Python.framework/Versions/3.4/bin:/usr/local/bin:/usr/bin:/bin:/usr/sbin:/sbin:/opt/X11/bin:/Library/TeX/texbin). Will use ffmpeg for decoding media files.\\nFeb 11, 2016 11:35:42 PM be.panako.cli.Panako actuallyReallyStartApplication\\nINFO: Starting Panako application store with 1 arguments\\nFeb 11, 2016 11:35:42 PM be.tarsos.dsp.io.PipeDecoder getDecodedStream\\nINFO: Starting piped decoding process for /Users/xuhe/Documents/Pipeline/Audio/Pipeline/AudioPipe/fingerprinting/audio_0001.mp3\\nFeb 11, 2016 11:35:42 PM be.tarsos.dsp.io.PipeDecoder$ErrorStreamGobbler run\\nINFO: avconv version 11.4, Copyright (c) 2000-2014 the Libav developers\\nFeb 11, 2016 11:35:42 PM be.tarsos.dsp.io.PipeDecoder$ErrorStreamGobbler run\\nINFO:   built on Oct 16 2015 09:05:58 with Apple LLVM version 7.0.0 (clang-700.0.72)\\nFeb 11, 2016 11:35:42 PM be.tarsos.dsp.io.PipeDecoder$ErrorStreamGobbler run\\nINFO: [mp3 @ 0x7f9de9004600] max_analyze_duration 5000000 reached\\nFeb 11, 2016 11:35:42 PM be.tarsos.dsp.io.PipeDecoder$ErrorStreamGobbler run\\nINFO: Guessed Channel Layout for  Input Stream #0.0 : stereo\\nFeb 11, 2016 11:35:42 PM be.tarsos.dsp.io.PipeDecoder$ErrorStreamGobbler run\\nINFO: Input #0, mp3, from '/Users/xuhe/Documents/Pipeline/Audio/Pipeline/AudioPipe/fingerprinting/audio_0001.mp3':\\nFeb 11, 2016 11:35:42 PM be.tarsos.dsp.io.PipeDecoder$ErrorStreamGobbler run\\nINFO:   Metadata:\\nFeb 11, 2016 11:35:42 PM be.tarsos.dsp.io.PipeDecoder$ErrorStreamGobbler run\\nINFO:     major_brand     : isom\\nFeb 11, 2016 11:35:42 PM be.tarsos.dsp.io.PipeDecoder$ErrorStreamGobbler run\\nINFO:     minor_version   : 512\\nFeb 11, 2016 11:35:42 PM be.tarsos.dsp.io.PipeDecoder$ErrorStreamGobbler run\\nINFO:     compatible_brands: isomiso2avc1mp41\\nFeb 11, 2016 11:35:42 PM be.tarsos.dsp.io.PipeDecoder$ErrorStreamGobbler run\\nINFO:     encoder         : Lavf56.40.101\\nFeb 11, 2016 11:35:42 PM be.tarsos.dsp.io.PipeDecoder$ErrorStreamGobbler run\\nINFO:   Duration: 00:59:54.81, start: 0.000000, bitrate: 128 kb/s\\nFeb 11, 2016 11:35:42 PM be.tarsos.dsp.io.PipeDecoder$ErrorStreamGobbler run\\nINFO:     Stream #0.0: Audio: mp3, 44100 Hz, 2 channels, s16p, 128 kb/s\\nFeb 11, 2016 11:35:42 PM be.tarsos.dsp.io.PipeDecoder$ErrorStreamGobbler run\\nINFO:     Metadata:\\nFeb 11, 2016 11:35:42 PM be.tarsos.dsp.io.PipeDecoder$ErrorStreamGobbler run\\nINFO:       encoder         : Lavc56.60\\nFeb 11, 2016 11:35:42 PM be.tarsos.dsp.io.PipeDecoder$ErrorStreamGobbler run\\nINFO: Output #0, s16le, to 'pipe:1':\\nFeb 11, 2016 11:35:42 PM be.tarsos.dsp.io.PipeDecoder$ErrorStreamGobbler run\\nINFO:   Metadata:\\nFeb 11, 2016 11:35:42 PM be.tarsos.dsp.io.PipeDecoder$ErrorStreamGobbler run\\nINFO:     major_brand     : isom\\nFeb 11, 2016 11:35:42 PM be.tarsos.dsp.io.PipeDecoder$ErrorStreamGobbler run\\nINFO:     minor_version   : 512\\nFeb 11, 2016 11:35:42 PM be.tarsos.dsp.io.PipeDecoder$ErrorStreamGobbler run\\nINFO:     compatible_brands: isomiso2avc1mp41\\nFeb 11, 2016 11:35:42 PM be.tarsos.dsp.io.PipeDecoder$ErrorStreamGobbler run\\nINFO:     encoder         : Lavf56.1.0\\nFeb 11, 2016 11:35:42 PM be.tarsos.dsp.io.PipeDecoder$ErrorStreamGobbler run\\nINFO:     Stream #0.0: Audio: pcm_s16le, 8000 Hz, mono, s16, 128 kb/s\\nFeb 11, 2016 11:35:42 PM be.tarsos.dsp.io.PipeDecoder$ErrorStreamGobbler run\\nINFO:     Metadata:\\nFeb 11, 2016 11:35:42 PM be.tarsos.dsp.io.PipeDecoder$ErrorStreamGobbler run\\nINFO:       encoder         : Lavc56.60\\nFeb 11, 2016 11:35:42 PM be.tarsos.dsp.io.PipeDecoder$ErrorStreamGobbler run\\nINFO: Stream mapping:\\nFeb 11, 2016 11:35:42 PM be.tarsos.dsp.io.PipeDecoder$ErrorStreamGobbler run\\nINFO:   Stream #0:0 -> #0:0 (mp3 (native) -> pcm_s16le (native))\\nFeb 11, 2016 11:35:42 PM be.tarsos.dsp.io.PipeDecoder$ErrorStreamGobbler run\\nINFO: Press ctrl-c to stop encoding\\nFeb 11, 2016 11:35:42 PM be.tarsos.dsp.io.PipeDecoder$ErrorStreamGobbler run\\nINFO: Input stream #0:0 frame changed from rate:44100 fmt:s16p ch:2 chl:stereo to rate:44100 fmt:s16 ch:2 chl:stereo\\nFeb 11, 2016 11:35:42 PM be.tarsos.dsp.io.PipeDecoder$ErrorStreamGobbler run\\nINFO: size=    2425kB time=155.17 bitrate= 128.0kbits/s    \\nFeb 11, 2016 11:35:43 PM be.tarsos.dsp.io.PipeDecoder$ErrorStreamGobbler run\\nINFO: size=    5189kB time=332.04 bitrate= 128.0kbits/s    \\nFeb 11, 2016 11:35:43 PM be.tarsos.dsp.io.PipeDecoder$ErrorStreamGobbler run\\nINFO: size=    7976kB time=510.46 bitrate= 128.0kbits/s    \\nFeb 11, 2016 11:35:44 PM be.tarsos.dsp.io.PipeDecoder$ErrorStreamGobbler run\\nINFO: size=   10791kB time=690.62 bitrate= 128.0kbits/s    \\nFeb 11, 2016 11:35:44 PM be.tarsos.dsp.io.PipeDecoder$ErrorStreamGobbler run\\nINFO: size=   13582kB time=869.25 bitrate= 128.0kbits/s    \\nFeb 11, 2016 11:35:45 PM be.tarsos.dsp.io.PipeDecoder$ErrorStreamGobbler run\\nINFO: size=   16347kB time=1046.18 bitrate= 128.0kbits/s    \\nFeb 11, 2016 11:35:45 PM be.tarsos.dsp.io.PipeDecoder$ErrorStreamGobbler run\\nINFO: size=   19146kB time=1225.30 bitrate= 128.0kbits/s    \\nFeb 11, 2016 11:35:46 PM be.tarsos.dsp.io.PipeDecoder$ErrorStreamGobbler run\\nINFO: size=   21910kB time=1402.23 bitrate= 128.0kbits/s    \\nFeb 11, 2016 11:35:46 PM be.tarsos.dsp.io.PipeDecoder$ErrorStreamGobbler run\\nINFO: size=   24679kB time=1579.41 bitrate= 128.0kbits/s    \\nFeb 11, 2016 11:35:47 PM be.tarsos.dsp.io.PipeDecoder$ErrorStreamGobbler run\\nINFO: size=   27460kB time=1757.44 bitrate= 128.0kbits/s    \\nFeb 11, 2016 11:35:47 PM be.tarsos.dsp.io.PipeDecoder$ErrorStreamGobbler run\\nINFO: size=   30249kB time=1935.91 bitrate= 128.0kbits/s    \\nFeb 11, 2016 11:35:48 PM be.tarsos.dsp.io.PipeDecoder$ErrorStreamGobbler run\\nINFO: size=   32978kB time=2110.56 bitrate= 128.0kbits/s    \\nFeb 11, 2016 11:35:48 PM be.tarsos.dsp.io.PipeDecoder$ErrorStreamGobbler run\\nINFO: size=   35690kB time=2284.12 bitrate= 128.0kbits/s    \\nFeb 11, 2016 11:35:49 PM be.tarsos.dsp.io.PipeDecoder$ErrorStreamGobbler run\\nINFO: size=   38411kB time=2458.25 bitrate= 128.0kbits/s    \\nFeb 11, 2016 11:35:49 PM be.tarsos.dsp.io.PipeDecoder$ErrorStreamGobbler run\\nINFO: size=   41135kB time=2632.62 bitrate= 128.0kbits/s    \\nFeb 11, 2016 11:35:50 PM be.tarsos.dsp.io.PipeDecoder$ErrorStreamGobbler run\\nINFO: size=   43832kB time=2805.24 bitrate= 128.0kbits/s    \\nFeb 11, 2016 11:35:50 PM be.tarsos.dsp.io.PipeDecoder$ErrorStreamGobbler run\\nINFO: size=   46550kB time=2979.16 bitrate= 128.0kbits/s    \\nFeb 11, 2016 11:35:51 PM be.tarsos.dsp.io.PipeDecoder$ErrorStreamGobbler run\\nINFO: size=   49137kB time=3144.75 bitrate= 128.0kbits/s    \\nFeb 11, 2016 11:35:51 PM be.tarsos.dsp.io.PipeDecoder$ErrorStreamGobbler run\\nINFO: size=   51890kB time=3320.95 bitrate= 128.0kbits/s    \\nFeb 11, 2016 11:35:52 PM be.tarsos.dsp.io.PipeDecoder$ErrorStreamGobbler run\\nINFO: size=   54621kB time=3495.73 bitrate= 128.0kbits/s    \\nFeb 11, 2016 11:35:52 PM be.tarsos.dsp.io.PipeDecoder$ErrorStreamGobbler run\\nINFO: size=   56169kB time=3594.81 bitrate= 128.0kbits/s    \\nFeb 11, 2016 11:35:52 PM be.tarsos.dsp.io.PipeDecoder$ErrorStreamGobbler run\\nINFO: video:0kB audio:56169kB other streams:0kB global headers:0kB muxing overhead: 0.000000%\\nFeb 11, 2016 11:35:52 PM be.tarsos.dsp.io.PipeDecoder$1 run\\nINFO: Finished piped decoding process\\nFeb 11, 2016 11:35:55 PM be.panako.strategy.nfft.NFFTStrategy store\\nINFO: Stored 43557 fingerprints bundeled from 24271 event points for /Users/xuhe/Documents/Pipeline/Audio/Pipeline/AudioPipe/fingerprinting/audio_0001.mp3.\\nFeb 11, 2016 11:35:55 PM be.panako.cli.Store$StoreTask run\\nINFO: 1/1;audio_0001.mp3;00:59:55;12.86 s;279.50\\n\""
      ]
     },
     "execution_count": 23,
     "metadata": {},
     "output_type": "execute_result"
    }
   ],
   "source": [
    "e"
   ]
  },
  {
   "cell_type": "code",
   "execution_count": 14,
   "metadata": {
    "collapsed": false
   },
   "outputs": [
    {
     "data": {
      "text/plain": [
       "0"
      ]
     },
     "execution_count": 14,
     "metadata": {},
     "output_type": "execute_result"
    }
   ],
   "source": [
    "rc"
   ]
  },
  {
   "cell_type": "code",
   "execution_count": 2,
   "metadata": {
    "collapsed": true
   },
   "outputs": [],
   "source": [
    "lista = [\"java\", \"-jar\", \"panako/panako.jar\", \"store\", ]"
   ]
  },
  {
   "cell_type": "code",
   "execution_count": null,
   "metadata": {
    "collapsed": true
   },
   "outputs": [],
   "source": [
    "from subprocess import Popen, PIPE\n",
    "\n",
    "p = Popen(['program', 'arg1'], stdin=PIPE, stdout=PIPE, stderr=PIPE)\n",
    "output, err = p.communicate(b\"input data that is passed to subprocess' stdin\")\n",
    "rc = p.returncode"
   ]
  }
 ],
 "metadata": {
  "kernelspec": {
   "display_name": "Python 2",
   "language": "python",
   "name": "python2"
  },
  "language_info": {
   "codemirror_mode": {
    "name": "ipython",
    "version": 2
   },
   "file_extension": ".py",
   "mimetype": "text/x-python",
   "name": "python",
   "nbconvert_exporter": "python",
   "pygments_lexer": "ipython2",
   "version": "2.7.10"
  }
 },
 "nbformat": 4,
 "nbformat_minor": 0
}
