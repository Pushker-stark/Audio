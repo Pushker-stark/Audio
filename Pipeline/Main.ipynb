{
 "cells": [
  {
   "cell_type": "code",
   "execution_count": 10,
   "metadata": {
    "collapsed": false
   },
   "outputs": [],
   "source": [
    "import AudioPipe.speaker.recognition as SR"
   ]
  },
  {
   "cell_type": "code",
   "execution_count": 6,
   "metadata": {
    "collapsed": true
   },
   "outputs": [],
   "source": [
    "Gender = SR.GMMRec"
   ]
  },
  {
   "cell_type": "code",
   "execution_count": 1,
   "metadata": {
    "collapsed": false
   },
   "outputs": [],
   "source": [
    "import AudioPipe.fingerprint.panako as FP"
   ]
  },
  {
   "cell_type": "code",
   "execution_count": 9,
   "metadata": {
    "collapsed": false
   },
   "outputs": [
    {
     "data": {
      "text/plain": [
       "('Audiofile;Audio duration;Fingerprinting duration;ratio\\n1/1;output.m4a;00:00:05;116.00 ms;43.49\\n',\n",
       " \"Feb 18, 2016 8:57:35 PM be.tarsos.dsp.io.PipeDecoder <init>\\nINFO: found ffmpeg on the path (/opt/local/bin:/opt/local/sbin:/Developer/NVIDIA/CUDA-7.0/bin:/Users/xuhe/anaconda/bin:/opt/local/bin:/opt/local/sbin:/opt/local/bin:/opt/local/sbin:/Library/Frameworks/Python.framework/Versions/2.7/bin:/Users/xuhe/anaconda3/bin:/Library/Frameworks/Python.framework/Versions/3.4/bin:/usr/local/bin:/usr/bin:/bin:/usr/sbin:/sbin:/opt/X11/bin:/Library/TeX/texbin). Will use ffmpeg for decoding media files.\\nFeb 18, 2016 8:57:35 PM be.panako.cli.Panako actuallyReallyStartApplication\\nINFO: Starting Panako application store with 1 arguments\\nFeb 18, 2016 8:57:35 PM be.tarsos.dsp.io.PipeDecoder getDecodedStream\\nINFO: Starting piped decoding process for /Users/xuhe/Documents/Pipeline/Audio/Pipeline/AudioPipe/mattia/cerrato-soc/clip-find/output.m4a\\nFeb 18, 2016 8:57:35 PM be.tarsos.dsp.io.PipeDecoder$ErrorStreamGobbler run\\nINFO: avconv version 11.4, Copyright (c) 2000-2014 the Libav developers\\nFeb 18, 2016 8:57:35 PM be.tarsos.dsp.io.PipeDecoder$ErrorStreamGobbler run\\nINFO:   built on Oct 16 2015 09:05:58 with Apple LLVM version 7.0.0 (clang-700.0.72)\\nFeb 18, 2016 8:57:35 PM be.tarsos.dsp.io.PipeDecoder$ErrorStreamGobbler run\\nINFO: Input #0, mov,mp4,m4a,3gp,3g2,mj2, from '/Users/xuhe/Documents/Pipeline/Audio/Pipeline/AudioPipe/mattia/cerrato-soc/clip-find/output.m4a':\\nFeb 18, 2016 8:57:35 PM be.tarsos.dsp.io.PipeDecoder$ErrorStreamGobbler run\\nINFO:   Metadata:\\nFeb 18, 2016 8:57:35 PM be.tarsos.dsp.io.PipeDecoder$ErrorStreamGobbler run\\nINFO:     major_brand     : M4A \\nFeb 18, 2016 8:57:35 PM be.tarsos.dsp.io.PipeDecoder$ErrorStreamGobbler run\\nINFO:     minor_version   : 512\\nFeb 18, 2016 8:57:35 PM be.tarsos.dsp.io.PipeDecoder$ErrorStreamGobbler run\\nINFO:     compatible_brands: isomiso2\\nFeb 18, 2016 8:57:35 PM be.tarsos.dsp.io.PipeDecoder$ErrorStreamGobbler run\\nINFO:     encoder         : Lavf56.40.101\\nFeb 18, 2016 8:57:35 PM be.tarsos.dsp.io.PipeDecoder$ErrorStreamGobbler run\\nINFO:   Duration: 00:00:05.02, start: 0.023220, bitrate: 131 kb/s\\nFeb 18, 2016 8:57:35 PM be.tarsos.dsp.io.PipeDecoder$ErrorStreamGobbler run\\nINFO:     Stream #0.0(und): Audio: aac, 44100 Hz, stereo, fltp, 128 kb/s (default)\\nFeb 18, 2016 8:57:35 PM be.tarsos.dsp.io.PipeDecoder$ErrorStreamGobbler run\\nINFO: Output #0, s16le, to 'pipe:1':\\nFeb 18, 2016 8:57:35 PM be.tarsos.dsp.io.PipeDecoder$ErrorStreamGobbler run\\nINFO:   Metadata:\\nFeb 18, 2016 8:57:35 PM be.tarsos.dsp.io.PipeDecoder$ErrorStreamGobbler run\\nINFO:     major_brand     : M4A \\nFeb 18, 2016 8:57:35 PM be.tarsos.dsp.io.PipeDecoder$ErrorStreamGobbler run\\nINFO:     minor_version   : 512\\nFeb 18, 2016 8:57:35 PM be.tarsos.dsp.io.PipeDecoder$ErrorStreamGobbler run\\nINFO:     compatible_brands: isomiso2\\nFeb 18, 2016 8:57:35 PM be.tarsos.dsp.io.PipeDecoder$ErrorStreamGobbler run\\nINFO:     encoder         : Lavf56.1.0\\nFeb 18, 2016 8:57:35 PM be.tarsos.dsp.io.PipeDecoder$ErrorStreamGobbler run\\nINFO:     Stream #0.0(und): Audio: pcm_s16le, 8000 Hz, mono, s16, 128 kb/s (default)\\nFeb 18, 2016 8:57:35 PM be.tarsos.dsp.io.PipeDecoder$ErrorStreamGobbler run\\nINFO:     Metadata:\\nFeb 18, 2016 8:57:35 PM be.tarsos.dsp.io.PipeDecoder$ErrorStreamGobbler run\\nINFO:       encoder         : Lavc56.1.0 pcm_s16le\\nFeb 18, 2016 8:57:35 PM be.tarsos.dsp.io.PipeDecoder$ErrorStreamGobbler run\\nINFO: Stream mapping:\\nFeb 18, 2016 8:57:35 PM be.tarsos.dsp.io.PipeDecoder$ErrorStreamGobbler run\\nINFO:   Stream #0:0 -> #0:0 (aac (native) -> pcm_s16le (native))\\nFeb 18, 2016 8:57:35 PM be.tarsos.dsp.io.PipeDecoder$ErrorStreamGobbler run\\nINFO: Press ctrl-c to stop encoding\\nFeb 18, 2016 8:57:35 PM be.tarsos.dsp.io.PipeDecoder$ErrorStreamGobbler run\\nINFO: size=      79kB time=5.04 bitrate= 128.0kbits/s    \\nFeb 18, 2016 8:57:35 PM be.tarsos.dsp.io.PipeDecoder$ErrorStreamGobbler run\\nINFO: video:0kB audio:79kB other streams:0kB global headers:0kB muxing overhead: 0.000000%\\nFeb 18, 2016 8:57:35 PM be.tarsos.dsp.io.PipeDecoder$1 run\\nINFO: Finished piped decoding process\\nFeb 18, 2016 8:57:35 PM be.panako.strategy.nfft.NFFTStrategy store\\nINFO: Stored 51 fingerprints bundeled from 40 event points for /Users/xuhe/Documents/Pipeline/Audio/Pipeline/AudioPipe/mattia/cerrato-soc/clip-find/output.m4a.\\nFeb 18, 2016 8:57:35 PM be.panako.cli.Store$StoreTask run\\nINFO: 1/1;output.m4a;00:00:05;116.00 ms;43.49\\n\",\n",
       " 0)"
      ]
     },
     "execution_count": 9,
     "metadata": {},
     "output_type": "execute_result"
    }
   ],
   "source": [
    "FP.Store(\"./AudioPipe/mattia/cerrato-soc/clip-find/output.m4a\")"
   ]
  },
  {
   "cell_type": "code",
   "execution_count": 3,
   "metadata": {
    "collapsed": false
   },
   "outputs": [
    {
     "data": {
      "text/plain": [
       "('', 'mkdir: /dbs: Permission denied\\n', 1)"
      ]
     },
     "execution_count": 3,
     "metadata": {},
     "output_type": "execute_result"
    }
   ],
   "source": [
    "FP.Place(\"/dbs\")"
   ]
  },
  {
   "cell_type": "code",
   "execution_count": null,
   "metadata": {
    "collapsed": true
   },
   "outputs": [],
   "source": []
  }
 ],
 "metadata": {
  "kernelspec": {
   "display_name": "Python 2",
   "language": "python",
   "name": "python2"
  },
  "language_info": {
   "codemirror_mode": {
    "name": "ipython",
    "version": 2
   },
   "file_extension": ".py",
   "mimetype": "text/x-python",
   "name": "python",
   "nbconvert_exporter": "python",
   "pygments_lexer": "ipython2",
   "version": "2.7.10"
  }
 },
 "nbformat": 4,
 "nbformat_minor": 0
}
